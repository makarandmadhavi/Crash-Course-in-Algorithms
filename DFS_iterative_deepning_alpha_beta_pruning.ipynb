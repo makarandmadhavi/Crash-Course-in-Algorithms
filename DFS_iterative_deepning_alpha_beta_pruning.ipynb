{
  "nbformat": 4,
  "nbformat_minor": 0,
  "metadata": {
    "colab": {
      "provenance": [],
      "authorship_tag": "ABX9TyMK99crcmKzzbHdvJGgMmk9"
    },
    "kernelspec": {
      "name": "python3",
      "display_name": "Python 3"
    },
    "language_info": {
      "name": "python"
    }
  },
  "cells": [
    {
      "cell_type": "markdown",
      "source": [
        "# DFS with Iterative Deepning and Alpha Beta pruning \n",
        "\n",
        "\n",
        "The fundamental building blocks of computer science are data structures and algorithms, which offer a methodical approach to problem-solving and effective data processing. Three methods stand out among the numerous employed in these fields: depth first search, iterative deepening, and alpha-beta pruning.\n",
        "\n",
        "A fundamental algorithm for navigating a graph or tree structure is called depth first search. Before turning around, it follows each branch as far as it can go. This method, which can be applied iteratively or recursively, is very helpful when looking for paths or solutions.\n",
        "\n",
        "A kind of depth first search known as iterative deepening restricts the depth of investigation on each iteration, gradually raising the limit until a solution is found. When memory limits hinder thorough exploration and the search space's depth is unknown or limitless, this method is helpful.\n",
        "\n",
        "In game-playing software, an algorithm called alpha-beta pruning is used to cut down on the number of nodes that are considered during a minimax search. Based on the evaluation of a heuristic function, it prunes the search tree to leave only those branches that are likely to produce a better result. The search space can be greatly reduced with this method, which also enhances the efficiency of game-playing algorithms.\n",
        "\n",
        "These three strategies will be thoroughly examined in this article, along with their use, implementation, and performance characteristics. We'll also look at how they work best when combined to effectively tackle difficult issues."
      ],
      "metadata": {
        "id": "V9Wlb3tFw2E0"
      }
    },
    {
      "cell_type": "markdown",
      "source": [
        "# Depth First Search (DFS)\n",
        "\n",
        "\n",
        "*Depth-first search is an algorithm for traversing or searching tree or graph data structures. The algorithm starts at the root node (selecting some arbitrary node as the root node in the case of a graph) and explores as far as possible along each branch before backtracking.*\n",
        "\n",
        "*So the basic idea is to start from the root or any arbitrary node and mark the node and move to the adjacent unmarked node and continue this loop until there is no unmarked adjacent node. Then backtrack and check for other unmarked nodes and traverse them. Finally, print the nodes in the path.* [from geeksforgeeks](https://www.geeksforgeeks.org/depth-first-search-or-dfs-for-a-graph/)\n",
        "\n",
        "## Algorithm\n",
        "\n",
        "\n",
        "\n",
        "```\n",
        "Algorithm: DFS(G, v)\n",
        "Input: \n",
        "- G: a graph represented as an adjacency list or matrix\n",
        "- v: the starting vertex to begin the DFS traversal\n",
        "\n",
        "Output: a set of visited vertices\n",
        "\n",
        "1. Mark v as visited\n",
        "2. Add v to the set of visited vertices\n",
        "3. For each neighbor w of v in G:\n",
        "   a. If w is not visited, recursively call DFS(G, w)\n",
        "4. Return the set of visited vertices\n",
        "\n",
        "```\n",
        "As the first step in this algorithm, we add the starting vertex v to the list of visited vertices by designating it as visited. Then, until we have visited all reachable vertices, we recursively explore all unvisited neighbors of v using the same DFS procedure. The set of visited vertices is then returned.\n",
        "\n",
        "Please take note that the graph is assumed to be represented using an adjacency list in this implementation. The procedure would need to be adjusted if the graph were to be represented as an adjacency matrix.\n",
        "\n",
        "It's also important to note that there are alternative ways to implement DFS besides this one, such as by using a stack rather than recursion.\n",
        "\n",
        "## Time Complexity\n",
        "\n",
        "The time complexity of the Depth First Search algorithm depends on the representation of the graph and the way it is implemented.\n",
        "\n",
        "For a graph represented as an adjacency matrix with n vertices, the time complexity of DFS is O(n^2) since we need to iterate through each cell in the matrix to determine if there is an edge between vertices.\n",
        "\n",
        "For a graph represented as an adjacency list with n vertices and m edges, the time complexity of DFS is O(n+m). This is because we visit each vertex and each edge once during the traversal.\n",
        "\n",
        "In the worst case, when the graph is a complete graph, the number of edges is n(n-1)/2, which is proportional to n^2. Therefore, the time complexity of DFS for a complete graph represented as an adjacency list is O(n^2).\n",
        "\n",
        "However, in most practical scenarios, the number of edges in a graph is much smaller than n^2, so the time complexity of DFS is generally considered to be O(n+m)."
      ],
      "metadata": {
        "id": "eqdWUrG60Bb-"
      }
    },
    {
      "cell_type": "markdown",
      "source": [
        "## Working of the Algorithm\n",
        "\n",
        "Sure, here are two worked examples for Depth First Search:\n",
        "\n",
        "### Example 1:\n",
        "Consider the following graph:\n",
        "\n",
        "```\n",
        "A ---- B ---- C\n",
        "|      |      |\n",
        "D ---- E ---- F\n",
        "```\n",
        "\n",
        "Starting from node A, let's perform a Depth First Search on the graph.\n",
        "\n",
        "```\n",
        "Step 1: Visit node A and mark it as visited\n",
        "Step 2: Visit node B and mark it as visited\n",
        "Step 3: Visit node E and mark it as visited\n",
        "Step 4: Visit node F and mark it as visited\n",
        "Step 5: Backtrack to node E and visit node D and mark it as visited\n",
        "Step 6: Backtrack to node B and visit node C and mark it as visited\n",
        "Step 7: Backtrack to node A\n",
        "```\n",
        "\n",
        "The DFS traversal order would be: A -> B -> E -> F -> D -> C\n",
        "\n",
        "### Example 2:\n",
        "Consider the following graph:\n",
        "\n",
        "```\n",
        "A ---- B ---- C ---- D\n",
        "|      |             |\n",
        "E      F             G\n",
        "```\n",
        "\n",
        "Starting from node A, let's perform a Depth First Search on the graph.\n",
        "\n",
        "```\n",
        "Step 1: Visit node A and mark it as visited\n",
        "Step 2: Visit node B and mark it as visited\n",
        "Step 3: Visit node C and mark it as visited\n",
        "Step 4: Visit node D and mark it as visited\n",
        "Step 5: Backtrack to node C and visit node F and mark it as visited\n",
        "Step 6: Backtrack to node B and visit node E and mark it as visited\n",
        "Step 7: Backtrack to node A and visit node G and mark it as visited\n",
        "```\n",
        "\n",
        "The DFS traversal order would be: A -> B -> C -> D -> F -> E -> G"
      ],
      "metadata": {
        "id": "qi4R3oaICvri"
      }
    },
    {
      "cell_type": "markdown",
      "source": [
        "## Example DFS code"
      ],
      "metadata": {
        "id": "5qSMSI5a2i93"
      }
    },
    {
      "cell_type": "code",
      "source": [
        "# create the graph as an adjacency list\n",
        "graph = {\n",
        "    'A': ['B', 'C'],\n",
        "    'B': ['D', 'E'],\n",
        "    'C': ['F'],\n",
        "    'D': [],\n",
        "    'E': ['F'],\n",
        "    'F': []\n",
        "}\n",
        "graph"
      ],
      "metadata": {
        "colab": {
          "base_uri": "https://localhost:8080/"
        },
        "id": "_tzizTOn2LSF",
        "outputId": "0821d5fd-129b-4d8d-88b0-3a4bb2b4895a"
      },
      "execution_count": 2,
      "outputs": [
        {
          "output_type": "execute_result",
          "data": {
            "text/plain": [
              "{'A': ['B', 'C'], 'B': ['D', 'E'], 'C': ['F'], 'D': [], 'E': ['F'], 'F': []}"
            ]
          },
          "metadata": {},
          "execution_count": 2
        }
      ]
    },
    {
      "cell_type": "code",
      "source": [
        "import networkx as nx\n",
        "import matplotlib.pyplot as plt\n",
        "\n",
        "# create a new graph object\n",
        "G = nx.Graph()\n",
        "\n",
        "# add nodes to the graph\n",
        "for node in graph:\n",
        "    G.add_node(node)\n",
        "\n",
        "# add edges to the graph\n",
        "for node in graph:\n",
        "    for neighbor in graph[node]:\n",
        "        G.add_edge(node, neighbor)\n",
        "\n",
        "# draw the graph\n",
        "pos = nx.spring_layout(G)\n",
        "nx.draw_networkx_nodes(G, pos, node_size=500)\n",
        "nx.draw_networkx_edges(G, pos)\n",
        "nx.draw_networkx_labels(G, pos)\n",
        "plt.axis('off')\n",
        "plt.show()\n"
      ],
      "metadata": {
        "colab": {
          "base_uri": "https://localhost:8080/",
          "height": 406
        },
        "id": "kqAUte6K2boa",
        "outputId": "df3345ed-4745-4288-cca1-c7b1b14f1467"
      },
      "execution_count": 4,
      "outputs": [
        {
          "output_type": "display_data",
          "data": {
            "text/plain": [
              "<Figure size 640x480 with 1 Axes>"
            ],
            "image/png": "[encoded data removed]"
          },
          "metadata": {}
        }
      ]
    },
    {
      "cell_type": "code",
      "execution_count": 3,
      "metadata": {
        "colab": {
          "base_uri": "https://localhost:8080/"
        },
        "id": "Yb8rurOeqy6n",
        "outputId": "083528b8-d9e7-44db-f5f7-7707fa4a8ca2"
      },
      "outputs": [
        {
          "output_type": "stream",
          "name": "stdout",
          "text": [
            "Visiting node 'A'\n",
            "Visiting node 'B'\n",
            "Visiting node 'D'\n",
            "Visiting node 'E'\n",
            "Visiting node 'F'\n",
            "Node 'F' found in the graph starting from node 'A'\n"
          ]
        }
      ],
      "source": [
        "\n",
        "# define the DFS algorithm\n",
        "def dfs(graph, start, target, visited=None):\n",
        "    if visited is None:\n",
        "        visited = set()\n",
        "    print(f\"Visiting node '{start}'\")\n",
        "    visited.add(start)\n",
        "    if start == target:\n",
        "        return True\n",
        "    for neighbor in graph[start]:\n",
        "        if neighbor not in visited:\n",
        "            if dfs(graph, neighbor, target, visited):\n",
        "                return True\n",
        "    return False\n",
        "\n",
        "# test the DFS algorithm by searching for node 'F'\n",
        "target = 'F'\n",
        "start = 'A'\n",
        "if dfs(graph, start, target):\n",
        "    print(f\"Node '{target}' found in the graph starting from node '{start}'\")\n",
        "else:\n",
        "    print(f\"Node '{target}' not found in the graph starting from node '{start}'\")\n"
      ]
    },
    {
      "cell_type": "markdown",
      "source": [
        "# Iterative Deepening\n",
        "\n",
        "A graph traversal and search procedure called Iterative Deepening is used to determine the shortest path between any two nodes in the graph. Similar to Depth First Search (DFS), it gradually raises the depth limit with each iteration until the target node is located. DFS searches as deeply as feasible in a single branch of the tree.\n",
        "\n",
        "If the objective node is far down the search tree and DFS takes a long detour first, the algorithm may not find it. In contrast, BFS can locate the target node quickly but may use up a lot of memory, particularly for huge graphs. But by gradually raising the depth limit with each iteration until it reaches the destination node, iterative deepening eliminates these drawbacks.\n",
        "\n",
        "## Algorithm\n",
        "\n",
        "Here's the pseudocode for the Iterative Deepening algorithm:\n",
        "\n",
        "```\n",
        "function iterative_deepening(start, goal, max_depth):\n",
        "    for depth_limit = 0 to max_depth:\n",
        "        visited = empty set\n",
        "        result = depth_limited_search(start, goal, visited, depth_limit)\n",
        "        if result is not None:\n",
        "            return result\n",
        "\n",
        "function depth_limited_search(node, goal, visited, depth_limit):\n",
        "    if node is goal:\n",
        "        return node\n",
        "    elif depth_limit == 0:\n",
        "        return None\n",
        "    else:\n",
        "        visited.add(node)\n",
        "        for neighbor in get_neighbors(node):\n",
        "            if neighbor not in visited:\n",
        "                result = depth_limited_search(neighbor, goal, visited, depth_limit-1)\n",
        "                if result is not None:\n",
        "                    return result\n",
        "        return None\n",
        "```\n",
        "\n",
        "In this pseudocode, the `iterative_deepening` function takes three arguments: the starting node, the goal node, and the maximum depth limit. The function then iterates through a range of depth limits from 0 to the maximum depth limit, and calls the `depth_limited_search` function with each depth limit.\n",
        "\n",
        "The `depth_limited_search` function takes four arguments: the current node, the goal node, a set of visited nodes, and the depth limit. The function recursively searches for the goal node using DFS, but stops searching a branch if the depth limit is reached. If the goal node is found, the function returns it. Otherwise, it returns None.\n",
        "\n",
        "By using Iterative Deepening to gradually increase the depth limit with each iteration, this algorithm ensures that it will find the shortest path from the starting node to the goal node, if one exists, while minimizing the memory requirement of the search.\n",
        "\n",
        "## Time Complexity\n",
        "\n",
        "Iterative deepening has an O(b^d) time complexity, where d is the depth of the destination node in the search tree and b is the branching factor. This is the same as Depth-First Search's time complexity, which is the algorithm used in Iterative Deepening's 'depth_limited_search' function.\n",
        "\n",
        "However, Iterative Deepening has a larger actual time complexity than DFS because it does several depth-limited searches. Since the technique conducts d iterations, each with an O(b^d) time complexity, the time complexity of Iterative Deepening is O(b^d) * d. As a result, Iterative Deepening is a more time-intensive search algorithm than DFS, but it is still suitable for the majority of real-world applications.\n",
        "\n",
        "It's important to remember that while though Iterative Deepening has a larger temporal complexity than DFS, it has the benefit of being complete and optimal, which implies that it will always find a solution if one exists and will find the shortest solution conceivable. Additionally, Iterative Deepening outperforms another popular search method for graphs, BFS, in terms of memory efficiency.\n",
        "\n"
      ],
      "metadata": {
        "id": "kMzI6ju83S_l"
      }
    },
    {
      "cell_type": "markdown",
      "source": [
        "## Working of the Algorithm\n",
        "\n",
        "Sure, here are two worked examples for Iterative Deepening:\n",
        "\n",
        "### Example 1:\n",
        "Consider the following tree:\n",
        "\n",
        "```\n",
        "            1\n",
        "          / | \\\n",
        "         2  3  4\n",
        "        / \\   / \\\n",
        "       5   6 7   8\n",
        "```\n",
        "\n",
        "Starting from node 1, let's perform an Iterative Deepening Search on the tree.\n",
        "\n",
        "```\n",
        "Depth Limit = 1\n",
        "Step 1: Visit node 1\n",
        "\n",
        "Depth Limit = 2\n",
        "Step 2: Visit node 2\n",
        "Step 3: Visit node 3\n",
        "Step 4: Visit node 4\n",
        "\n",
        "Depth Limit = 3\n",
        "Step 5: Visit node 5\n",
        "Step 6: Visit node 6\n",
        "Step 7: Visit node 7\n",
        "Step 8: Visit node 8\n",
        "```\n",
        "\n",
        "The IDS traversal order would be: 1 -> 2 -> 3 -> 4 -> 5 -> 6 -> 7 -> 8\n",
        "\n",
        "### Example 2:\n",
        "Consider the following tree:\n",
        "\n",
        "```\n",
        "            1\n",
        "          / | \\\n",
        "         2  3  4\n",
        "        / \\   / \\\n",
        "       5   6 7   8\n",
        "```\n",
        "\n",
        "Starting from node 3, let's perform an Iterative Deepening Search on the tree.\n",
        "\n",
        "```\n",
        "Depth Limit = 1\n",
        "Step 1: Visit node 3\n",
        "\n",
        "Depth Limit = 2\n",
        "Step 2: Visit node 1\n",
        "Step 3: Visit node 4\n",
        "\n",
        "Depth Limit = 3\n",
        "Step 4: Visit node 2\n",
        "Step 5: Visit node 5\n",
        "Step 6: Visit node 6\n",
        "Step 7: Visit node 7\n",
        "Step 8: Visit node 8\n",
        "```\n",
        "\n",
        "The IDS traversal order would be: 3 -> 1 -> 4 -> 2 -> 5 -> 6 -> 7 -> 8"
      ],
      "metadata": {
        "id": "gPeIOb_kC6HN"
      }
    },
    {
      "cell_type": "markdown",
      "source": [
        "## Example Iterative deepening code"
      ],
      "metadata": {
        "id": "1ZVtLZI552Iv"
      }
    },
    {
      "cell_type": "code",
      "source": [
        "import networkx as nx\n",
        "import matplotlib.pyplot as plt\n",
        "\n",
        "# Define the graph\n",
        "graph = {\n",
        "    'A': ['B', 'C'],\n",
        "    'B': ['D', 'E'],\n",
        "    'C': ['F', 'G'],\n",
        "    'D': ['H', 'I'],\n",
        "    'E': ['J', 'K'],\n",
        "    'F': ['L', 'M'],\n",
        "    'G': ['N', 'O']\n",
        "}\n",
        "\n",
        "# Create a NetworkX graph object and add nodes and edges\n",
        "G = nx.Graph()\n",
        "for node, neighbors in graph.items():\n",
        "    G.add_node(node)\n",
        "    for neighbor in neighbors:\n",
        "        G.add_edge(node, neighbor)\n",
        "\n",
        "# Draw the graph\n",
        "nx.draw(G, with_labels=True, font_weight='bold')\n",
        "plt.show()\n"
      ],
      "metadata": {
        "colab": {
          "base_uri": "https://localhost:8080/",
          "height": 516
        },
        "id": "4f6-XjZZ5fcI",
        "outputId": "09a14979-867b-4287-b992-e3260fced15a"
      },
      "execution_count": 8,
      "outputs": [
        {
          "output_type": "display_data",
          "data": {
            "text/plain": [
              "<Figure size 640x480 with 1 Axes>"
            ],
            "image/png": "[encoded data removed]"
          },
          "metadata": {}
        }
      ]
    },
    {
      "cell_type": "code",
      "source": [
        "def iterative_deepening(start, goal, max_depth):\n",
        "    for depth in range(max_depth):\n",
        "        visited = set()\n",
        "        result = depth_limited_search(start, goal, visited, depth)\n",
        "        if result is not None:\n",
        "            return result\n",
        "\n",
        "def depth_limited_search(node, goal, visited, depth_limit):\n",
        "    print(f\"Visiting node {node} at depth {depth_limit}\")\n",
        "    if node == goal:\n",
        "        return node\n",
        "    elif depth_limit == 0:\n",
        "        return None\n",
        "    else:\n",
        "        visited.add(node)\n",
        "        for neighbor in graph[node]:\n",
        "            if neighbor not in visited:\n",
        "                result = depth_limited_search(neighbor, goal, visited, depth_limit-1)\n",
        "                if result is not None:\n",
        "                    return result\n",
        "        return None"
      ],
      "metadata": {
        "id": "KmU3bpqi7BTc"
      },
      "execution_count": 9,
      "outputs": []
    },
    {
      "cell_type": "code",
      "source": [
        "# Test the iterative_deepening function\n",
        "start_node = 'A'\n",
        "goal_node = 'N'\n",
        "max_depth_limit = 4\n",
        "\n",
        "result = iterative_deepening(start_node, goal_node, max_depth_limit)\n",
        "\n",
        "if result is not None:\n",
        "    print(f\"Found path from {start_node} to {goal_node}: {result}\")\n",
        "else:\n",
        "    print(f\"No path found from {start_node} to {goal_node} within a depth limit of {max_depth_limit}.\")"
      ],
      "metadata": {
        "colab": {
          "base_uri": "https://localhost:8080/"
        },
        "id": "7ExPyrsW7E-X",
        "outputId": "dc271423-4897-4ac0-92cf-167f9b3c04f0"
      },
      "execution_count": 13,
      "outputs": [
        {
          "output_type": "stream",
          "name": "stdout",
          "text": [
            "Visiting node A at depth 0\n",
            "Visiting node A at depth 1\n",
            "Visiting node B at depth 0\n",
            "Visiting node C at depth 0\n",
            "Visiting node A at depth 2\n",
            "Visiting node B at depth 1\n",
            "Visiting node D at depth 0\n",
            "Visiting node E at depth 0\n",
            "Visiting node C at depth 1\n",
            "Visiting node F at depth 0\n",
            "Visiting node G at depth 0\n",
            "Visiting node A at depth 3\n",
            "Visiting node B at depth 2\n",
            "Visiting node D at depth 1\n",
            "Visiting node H at depth 0\n",
            "Visiting node I at depth 0\n",
            "Visiting node E at depth 1\n",
            "Visiting node J at depth 0\n",
            "Visiting node K at depth 0\n",
            "Visiting node C at depth 2\n",
            "Visiting node F at depth 1\n",
            "Visiting node L at depth 0\n",
            "Visiting node M at depth 0\n",
            "Visiting node G at depth 1\n",
            "Visiting node N at depth 0\n",
            "Found path from A to N: N\n"
          ]
        }
      ]
    },
    {
      "cell_type": "markdown",
      "source": [
        "# Alpha-Beta pruning\n",
        "\n",
        "*Alpha-Beta pruning is not actually a new algorithm, but rather an optimization technique for the minimax algorithm. It reduces the computation time by a huge factor. This allows us to search much faster and even go into deeper levels in the game tree. It cuts off branches in the game tree which need not be searched because there already exists a better move available. It is called Alpha-Beta pruning because it passes 2 extra parameters in the minimax function, namely alpha and beta.* [from geeksforgeeks](https://www.geeksforgeeks.org/minimax-algorithm-in-game-theory-set-4-alpha-beta-pruning/)"
      ],
      "metadata": {
        "id": "36wN_xOD7vvG"
      }
    },
    {
      "cell_type": "markdown",
      "source": [
        "## Algorithm\n",
        "\n",
        "Here is the pseudocode for the alpha-beta pruning algorithm:\n",
        "\n",
        "```\n",
        "function alphabeta(node, depth, alpha, beta, maximizingPlayer) is\n",
        "    if depth = 0 or node is a terminal node then\n",
        "        return the heuristic value of node\n",
        "    \n",
        "    if maximizingPlayer then\n",
        "        v := -∞\n",
        "        for each child of node do\n",
        "            v := max(v, alphabeta(child, depth - 1, alpha, beta, FALSE))\n",
        "            alpha := max(alpha, v)\n",
        "            if beta ≤ alpha then\n",
        "                break (* β cut-off *)\n",
        "        return v\n",
        "        \n",
        "    else (* minimizing player *)\n",
        "        v := +∞\n",
        "        for each child of node do\n",
        "            v := min(v, alphabeta(child, depth - 1, alpha, beta, TRUE))\n",
        "            beta := min(beta, v)\n",
        "            if beta ≤ alpha then\n",
        "                break (* α cut-off *)\n",
        "        return v\n",
        "```\n",
        "\n",
        "In this pseudocode, `node` is the current node being considered, `depth` is the remaining depth in the search tree, `alpha` is the best score the maximizing player has seen so far, and `beta` is the best score the minimizing player has seen so far. `maximizingPlayer` is a boolean flag that indicates whether the current player is maximizing or minimizing.\n",
        "\n",
        "The algorithm first checks if the current node is a terminal node or if the maximum depth has been reached. If either of these conditions are true, the algorithm returns the heuristic value of the node.\n",
        "\n",
        "If the current player is the maximizing player, the algorithm initializes `v` to negative infinity and iterates through all the child nodes of the current node, updating `v` to the maximum value found so far. It also updates the `alpha` value accordingly. If `beta` is less than or equal to `alpha`, the algorithm exits the loop (this is known as a beta cut-off). The function returns `v`.\n",
        "\n",
        "If the current player is the minimizing player, the algorithm initializes `v` to positive infinity and iterates through all the child nodes of the current node, updating `v` to the minimum value found so far. It also updates the `beta` value accordingly. If `beta` is less than or equal to `alpha`, the algorithm exits the loop (this is known as an alpha cut-off). The function returns `v`.\n",
        "\n",
        "\n",
        "## Time Complexity\n",
        "\n",
        "The alpha-beta pruning algorithm has the same time complexity as the minimax algorithm, which is O(b^d), where b is the search tree's branching factor (i.e., the maximum number of children a node can have) and d is the search tree's maximum depth. \n",
        "\n",
        "Alpha-beta pruning, in contrast to minimax, can drastically cut down on the number of nodes that must be searched, so that the actual running time may be much lower than the worst-case time complexity. Depending on the topology of the search tree and the effectiveness of the heuristic function, alpha-beta pruning can reduce the number of nodes searched by a factor of 2 or more in real-world applications.\n"
      ],
      "metadata": {
        "id": "skhl8b6S9Vsc"
      }
    },
    {
      "cell_type": "markdown",
      "source": [
        "## Working of the Algorithm\n",
        "\n",
        "Sure, here are two worked examples for Alpha-Beta Pruning:\n",
        "\n",
        "### Example 1:\n",
        "Consider the following game tree with alpha-beta pruning:\n",
        "\n",
        "```\n",
        "                       A(0,0)\n",
        "                      /      \\\n",
        "               B(0,0)        C(0,0)\n",
        "              /  |   \\      /   |   \\\n",
        "        D(1,1) E(2,2) F(3,3) G(4,4) H(5,5)\n",
        "```\n",
        "\n",
        "Suppose we are searching for the best move for player A, and we start with an initial alpha value of negative infinity and an initial beta value of positive infinity.\n",
        "\n",
        "1. We begin at node A and evaluate its left child, node B. Node B has two children, nodes D and E.\n",
        "\n",
        "2. We evaluate node D with alpha = -inf and beta = inf. Since the score of node D is (1,1), we update the alpha value to 1 and return the value (1,1) to its parent, node B.\n",
        "\n",
        "3. We evaluate node E with alpha = 1 and beta = inf. Since the score of node E is (2,2), we update the alpha value to 2 and return the value (2,2) to its parent, node B.\n",
        "\n",
        "4. Node B now has all of its children evaluated, so we return the maximum value among them, which is (2,2), to its parent, node A. We also update the alpha value to 2.\n",
        "\n",
        "5. We evaluate node C with alpha = 2 and beta = 2. Since node C has no children, its score is (0,0), so we return this value to its parent, node A.\n",
        "\n",
        "6. Node A now has both of its children evaluated. Since the beta value is 2 and the score of node C is (0,0), we prune the right subtree of node A and return the score (2,2) to its parent, which is the maximum score for player A.\n",
        "\n",
        "### Example 2:\n",
        "Consider the following game tree with alpha-beta pruning:\n",
        "\n",
        "```\n",
        "                       A(0,0)\n",
        "                      /      \\\n",
        "               B(0,0)        C(0,0)\n",
        "              /  |   \\      /   |   \\\n",
        "        D(1,1) E(2,2) F(3,3) G(4,4) H(5,5)\n",
        "```\n",
        "\n",
        "Suppose we are searching for the best move for player B, and we start with an initial alpha value of negative infinity and an initial beta value of positive infinity.\n",
        "\n",
        "1. We begin at node B and evaluate its left child, node D. Node D has no children, so we return its score, (1,1), to its parent, node B.\n",
        "\n",
        "2. We evaluate node E with alpha = -inf and beta = 1. Since the score of node E is (2,2), we update the alpha value to 2 and return the value (2,2) to its parent, node B.\n",
        "\n",
        "3. Node B now has all of its children evaluated, so we return the minimum value among them, which is (1,1), to its parent, node A.\n",
        "\n",
        "4. We evaluate node C with alpha = -inf and beta = 1. Since node C has no children, its score is (0,0), so we return this value to its parent, node A.\n",
        "\n",
        "5. Node A now has both of its children evaluated. Since the alpha value is -inf and the score of node B is (1,1), we prune the right subtree of node A and return the score (1,1) to its parent, which is the minimum score for player B"
      ],
      "metadata": {
        "id": "ZhV5nS72DEFv"
      }
    },
    {
      "cell_type": "markdown",
      "source": [
        "## Example Alpha Beta pruning code"
      ],
      "metadata": {
        "id": "FqGMHqdG-duU"
      }
    },
    {
      "cell_type": "code",
      "source": [
        "import networkx as nx\n",
        "import matplotlib.pyplot as plt\n",
        "import random\n",
        "\n",
        "def generate_tree_graph(n):\n",
        "    # generate a random tree graph with n nodes\n",
        "    G = nx.Graph()\n",
        "    nodes = list(range(1, n+1))\n",
        "    random.shuffle(nodes)\n",
        "    root = nodes[0]\n",
        "    G.add_node(root)\n",
        "    for node in nodes[1:]:\n",
        "        parent = random.choice(list(G.nodes()))\n",
        "        G.add_edge(parent, node)\n",
        "    return G, root\n",
        "\n",
        "def plot_graph(G):\n",
        "    # plot the graph using NetworkX and Matplotlib\n",
        "    pos = nx.kamada_kawai_layout(G)\n",
        "    nx.draw_networkx_nodes(G, pos, node_size=500, node_color='lightblue')\n",
        "    nx.draw_networkx_labels(G, pos, font_size=20, font_color='black', font_family='sans-serif')\n",
        "    nx.draw_networkx_edges(G, pos, width=2, edge_color='gray')\n",
        "    plt.axis('off')\n",
        "    plt.show()\n",
        "\n",
        "def alphabeta(node, depth, alpha, beta, maximizingPlayer):\n",
        "    if depth == 0 or node not in G:\n",
        "        # If we have reached the maximum depth or a leaf node, return the heuristic value\n",
        "        return random.randint(0, 100)\n",
        "\n",
        "    if maximizingPlayer:\n",
        "        # Maximize the score for the maximizing player\n",
        "        print(f\"Visiting node {node}, alpha={alpha}, beta={beta}\")\n",
        "        v = float('-inf')\n",
        "        for child in G.neighbors(node):\n",
        "            v = max(v, alphabeta(child, depth-1, alpha, beta, False))\n",
        "            alpha = max(alpha, v)\n",
        "            if beta <= alpha:\n",
        "                # Beta cut-off\n",
        "                break\n",
        "        return v\n",
        "    else:\n",
        "        # Minimize the score for the minimizing player\n",
        "        print(f\"Visiting node {node}, alpha={alpha}, beta={beta}\")\n",
        "        v = float('inf')\n",
        "        for child in G.neighbors(node):\n",
        "            v = min(v, alphabeta(child, depth-1, alpha, beta, True))\n",
        "            beta = min(beta, v)\n",
        "            if beta <= alpha:\n",
        "                # Alpha cut-off\n",
        "                break\n",
        "        return v\n",
        "\n",
        "# Generate a random tree graph with 10 nodes\n",
        "G, root = generate_tree_graph(10)\n",
        "\n",
        "# Plot the graph\n",
        "plot_graph(G)\n",
        "\n",
        "# Perform alpha-beta pruning search on the graph\n",
        "score = alphabeta(root, 4, float('-inf'), float('inf'), True)\n",
        "print(f\"Final score: {score}\")\n"
      ],
      "metadata": {
        "colab": {
          "base_uri": "https://localhost:8080/",
          "height": 942
        },
        "id": "ewL2mqNd-hR3",
        "outputId": "68460166-2a59-46d9-b5a5-214a51fb9af1"
      },
      "execution_count": 14,
      "outputs": [
        {
          "output_type": "display_data",
          "data": {
            "text/plain": [
              "<Figure size 640x480 with 1 Axes>"
            ],
            "image/png": "[encoded data removed]"
          },
          "metadata": {}
        },
        {
          "output_type": "stream",
          "name": "stdout",
          "text": [
            "Visiting node 5, alpha=-inf, beta=inf\n",
            "Visiting node 8, alpha=-inf, beta=inf\n",
            "Visiting node 5, alpha=-inf, beta=inf\n",
            "Visiting node 8, alpha=-inf, beta=inf\n",
            "Visiting node 9, alpha=2, beta=inf\n",
            "Visiting node 3, alpha=28, beta=inf\n",
            "Visiting node 1, alpha=28, beta=inf\n",
            "Visiting node 9, alpha=74, beta=inf\n",
            "Visiting node 5, alpha=74, beta=inf\n",
            "Visiting node 8, alpha=74, beta=inf\n",
            "Visiting node 9, alpha=74, beta=inf\n",
            "Visiting node 3, alpha=74, beta=inf\n",
            "Visiting node 1, alpha=74, beta=inf\n",
            "Visiting node 3, alpha=81, beta=inf\n",
            "Visiting node 5, alpha=81, beta=inf\n",
            "Visiting node 8, alpha=81, beta=inf\n",
            "Visiting node 9, alpha=94, beta=inf\n",
            "Visiting node 3, alpha=94, beta=inf\n",
            "Visiting node 1, alpha=94, beta=inf\n",
            "Visiting node 7, alpha=81, beta=94\n",
            "Visiting node 3, alpha=81, beta=94\n",
            "Visiting node 2, alpha=81, beta=94\n",
            "Visiting node 4, alpha=81, beta=94\n",
            "Visiting node 1, alpha=81, beta=inf\n",
            "Visiting node 5, alpha=81, beta=inf\n",
            "Visiting node 8, alpha=81, beta=inf\n",
            "Visiting node 9, alpha=81, beta=inf\n",
            "Visiting node 3, alpha=85, beta=inf\n",
            "Visiting node 1, alpha=85, beta=inf\n",
            "Final score: 85\n"
          ]
        }
      ]
    },
    {
      "cell_type": "markdown",
      "source": [
        "# Analysis of all 3 algorithms\n",
        "\n",
        "\n",
        "1. Depth-First Search (DFS)\n",
        "\n",
        "    a. In terms of space, DFS has an O(bm) space complexity, where b is the tree's branching factor and m is its maximum depth. To keep track of the nodes that need to be visited, it employs a stack data structure.\n",
        "    \n",
        "    b. Time: DFS has an O(bm) time complexity, where b is the tree's branching factor and m is its maximum depth. Before turning around, it follows a single path to the top of the tree.\n",
        "    \n",
        "    c. Benefits: DFS is easy to implement and has a wide range of applications. In some circumstances, it can also identify a solution rapidly and is also simple to understand.\n",
        "    \n",
        "    d. Drawbacks: DFS has a tendency to become caught in loops or to search a lot of irrelevant nodes. Additionally, it might not always find the best answer.\n",
        "\n",
        "    \n",
        "    \n",
        "2. Iterative Deepening (ID)\n",
        "    \n",
        "    a. The space complexity of iterative deepening is O(bd), where b is the tree's branching factor and d is the depth of the destination node. It employs an approach to depth-limited search with increasing depth constraints.\n",
        "    \n",
        "    b. Time: Iterative deepening has an O(bd) time complexity, where d is the depth of the goal node and b is the branching factor of the tree. With increasing depth restrictions, it does a depth-limited search.\n",
        "    \n",
        "    c. Benefits: Iterative deepening, as opposed to DFS, can identify the ideal solution with less memory and time usage. Additionally, it is less likely to become caught in loops.\n",
        "\n",
        "    d. Drawbacks: Compared to DFS and iterative deepening, alpha-beta pruning requires more complicated implementation. Additionally, it could not always come up with the best option, particularly in some challenging game conditions.\n",
        "\n",
        "3. Alpha-Beta Pruning\n",
        "\n",
        "    a. The space complexity of alpha-beta pruning is O(bd), where b is the tree's branching factor and d is the depth of the goal node. Pruning is used along with a min-max strategy to get rid of pointless nodes.\n",
        "    \n",
        "    b. temporal: Compared to DFS and iterative deepening, alpha-beta pruning has a temporal complexity of O(b(d/2)), which is significantly less. By pruning the search tree, it removes pointless nodes.\n",
        "    \n",
        "    c. Benefits: Alpha-beta pruning can remove unnecessary branches from the game tree, improving the effectiveness of the search. With the same amount of time and memory, it can search far further down the game tree.\n",
        "\n",
        "    d. Drawbacks: Compared to DFS and iterative deepening, alpha-beta pruning requires more complicated implementation. Additionally, it could not always come up with the best option, particularly in some challenging game conditions.\n",
        "\n",
        "In conclusion, iterative deepening can find the optimal solution with less memory and time requirements than DFS but still needs to explore many irrelevant nodes, alpha-beta pruning is highly efficient but requires more complex implementation and may not always find the optimal solution. DFS is simple and easy to implement, but it may not find the optimal solution. The particular problem and application needs determine the choice of algorithm."
      ],
      "metadata": {
        "id": "Y4jz7Tk7_8zj"
      }
    },
    {
      "cell_type": "markdown",
      "source": [
        "# Chess\n",
        "\n",
        "DFS, iterative deepening, and alpha-beta pruning are all search algorithms that can be used in the development of a chess-playing program. Here's how they can be used:\n",
        "\n",
        "1. DFS: Depth-first search can be used to explore the possible moves from the current position in the game tree. The search algorithm would explore all the possible moves from the current position until a certain depth is reached, and then evaluate the board position at that depth. The evaluation function would return a score that represents how favorable the board position is for the current player. The algorithm would then backtrack to the previous position and explore another move. This process would continue until a certain time limit or maximum depth is reached. \n",
        "\n",
        "2. Iterative Deepening: Iterative deepening can be used to search for the best move within a certain time limit. The algorithm would start with a depth of 1 and perform a depth-limited search until the time limit is reached. If there is still time remaining, the algorithm would increase the depth and perform another depth-limited search. This process would continue until the time limit is reached. The algorithm would then return the best move found so far.\n",
        "\n",
        "3. Alpha-Beta Pruning: Alpha-beta pruning can be used to improve the efficiency of the search algorithm by eliminating irrelevant branches of the game tree. The algorithm would evaluate the board position at the leaf nodes of the tree and propagate the scores up the tree to the root. When a player performs a move, the algorithm would explore all the possible responses from the opponent and use alpha-beta pruning to eliminate branches of the tree that are guaranteed to be worse than the best move found so far. This can dramatically reduce the number of positions that need to be evaluated, making the search algorithm more efficient.\n",
        "\n",
        "In summary, these algorithms can be combined in various ways to develop a chess-playing program that can search for the best move to play based on the current board position."
      ],
      "metadata": {
        "id": "hiA-0-qv_bEA"
      }
    },
    {
      "cell_type": "markdown",
      "source": [
        "# References\n",
        "\n",
        "1. ChatGPT - https://chat.openai.com/\n",
        "2. GeeksForGeeks DFS - https://www.geeksforgeeks.org/depth-first-search-or-dfs-for-a-graph/\n",
        "3. GeeksForGeeks MinMax Algorithm - https://www.geeksforgeeks.org/minimax-algorithm-in-game-theory-set-4-alpha-beta-pruning/\n",
        "4. Wikipedia IDDFS - https://en.wikipedia.org/wiki/Iterative_deepening_depth-first_search"
      ],
      "metadata": {
        "id": "Jf4sTwriZfNh"
      }
    },
    {
      "cell_type": "markdown",
      "source": [
        "# License\n",
        "\n",
        "\n",
        "MIT License\n",
        "\n",
        "Copyright (c) 2023 Makarand Madhavi\n",
        "\n",
        "Permission is hereby granted, free of charge, to any person obtaining a copy\n",
        "of this software and associated documentation files (the \"Software\"), to deal\n",
        "in the Software without restriction, including without limitation the rights\n",
        "to use, copy, modify, merge, publish, distribute, sublicense, and/or sell\n",
        "copies of the Software, and to permit persons to whom the Software is\n",
        "furnished to do so, subject to the following conditions:\n",
        "\n",
        "The above copyright notice and this permission notice shall be included in all\n",
        "copies or substantial portions of the Software.\n",
        "\n",
        "THE SOFTWARE IS PROVIDED \"AS IS\", WITHOUT WARRANTY OF ANY KIND, EXPRESS OR\n",
        "IMPLIED, INCLUDING BUT NOT LIMITED TO THE WARRANTIES OF MERCHANTABILITY,\n",
        "FITNESS FOR A PARTICULAR PURPOSE AND NONINFRINGEMENT. IN NO EVENT SHALL THE\n",
        "AUTHORS OR COPYRIGHT HOLDERS BE LIABLE FOR ANY CLAIM, DAMAGES OR OTHER\n",
        "LIABILITY, WHETHER IN AN ACTION OF CONTRACT, TORT OR OTHERWISE, ARISING FROM,\n",
        "OUT OF OR IN CONNECTION WITH THE SOFTWARE OR THE USE OR OTHER DEALINGS IN THE\n",
        "SOFTWARE."
      ],
      "metadata": {
        "id": "bws8IN1yZSj6"
      }
    }
  ]
}